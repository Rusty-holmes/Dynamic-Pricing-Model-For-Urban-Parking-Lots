{
 "cells": [
  {
   "cell_type": "markdown",
   "id": "0",
   "metadata": {
    "id": "499a7abf"
   },
   "source": [
    "# Final Submission: Dynamic Pricing for Urban Parking Lots\n",
    "Capstone Project - Summer Analytics 2025"
   ]
  },
  {
   "cell_type": "code",
   "execution_count": null,
   "id": "1",
   "metadata": {
    "colab": {
     "base_uri": "https://localhost:8080/",
     "height": 540
    },
    "id": "c19a0713",
    "outputId": "839ef854-17db-4d10-d660-c4c10ed900e6"
   },
   "outputs": [],
   "source": [
    "!pip install pathway bokeh panel pandas numpy --quiet\n",
    "import panel as pn\n",
    "pn.extension('bokeh')"
   ]
  },
  {
   "cell_type": "code",
   "execution_count": null,
   "id": "2",
   "metadata": {
    "colab": {
     "base_uri": "https://localhost:8080/",
     "height": 17
    },
    "id": "8656fa3f",
    "outputId": "604b6a9a-c00e-4ac5-e03c-84957de2a3df"
   },
   "outputs": [],
   "source": [
    "import numpy as np\n",
    "import pandas as pd\n",
    "import matplotlib.pyplot as plt\n",
    "import datetime\n",
    "import pathway as pw\n",
    "from datetime import datetime\n",
    "from bokeh.plotting import figure\n",
    "from bokeh.models import ColumnDataSource\n"
   ]
  },
  {
   "cell_type": "code",
   "execution_count": null,
   "id": "3",
   "metadata": {
    "id": "53ddaf97"
   },
   "outputs": [],
   "source": [
    "# Load dataset and prepare stream CSV\n",
    "df = pd.read_csv('dataset.csv')\n",
    "# df.head()\n",
    "df['Timestamp'] = pd.to_datetime(df['LastUpdatedDate'] + ' ' + df['LastUpdatedTime'], dayfirst=True)\n",
    "df = df.sort_values('Timestamp').reset_index(drop=True)\n",
    "df = df.rename(columns={'SystemCodeNumber':'LocationID'})\n",
    "df = df.rename(columns={'TrafficConditionNearby':'TrafficLevel'})\n",
    "stream_csv = df[['Timestamp','LocationID','Capacity','Occupancy','QueueLength',\n",
    "                 'TrafficLevel','IsSpecialDay','VehicleType','Latitude','Longitude']]\n",
    "stream_csv.to_csv('parking_stream.csv', index=False)\n"
   ]
  },
  {
   "cell_type": "code",
   "execution_count": null,
   "id": "4",
   "metadata": {
    "id": "3816ca5d"
   },
   "outputs": [],
   "source": [
    "class ParkingSchema(pw.Schema):\n",
    "    Timestamp: str\n",
    "    LocationID: str\n",
    "    Capacity: int\n",
    "    Occupancy: int\n",
    "    QueueLength: int\n",
    "    TrafficLevel: str\n",
    "    IsSpecialDay: int\n",
    "    VehicleType: str\n",
    "    Latitude: float\n",
    "    Longitude: float\n",
    "\n",
    "data = pw.demo.replay_csv('parking_stream.csv', schema=ParkingSchema, input_rate=1000)\n"
   ]
  },
  {
   "cell_type": "code",
   "execution_count": null,
   "id": "5",
   "metadata": {
    "id": "b16d550f"
   },
   "outputs": [],
   "source": [
    "import datetime as dt\n",
    "# Step 1: Parse string to datetime\n",
    "data_with_time = data.with_columns(\n",
    "    t = data.Timestamp.dt.strptime('%Y-%m-%d %H:%M:%S')\n",
    ")\n",
    "\n",
    "# Step 2: Use the parsed datetime to create a string day key\n",
    "data_with_time = data_with_time.with_columns(\n",
    "    day_key = data_with_time.t.dt.strftime('%Y-%m-%d') + '_' + data_with_time.LocationID\n",
    ")\n",
    "\n",
    "delta_window = (\n",
    "    data_with_time.windowby(\n",
    "        data_with_time.t,\n",
    "        instance=data_with_time.day_key,\n",
    "        window=pw.temporal.tumbling(dt.timedelta(days=1)),\n",
    "        behavior=pw.temporal.exactly_once_behavior()\n",
    "    )\n",
    "    .reduce(\n",
    "        LocationID=pw.reducers.any(pw.this.LocationID),\n",
    "        t=pw.this._pw_window_end,\n",
    "        occ_max=pw.reducers.max(pw.this.Occupancy),\n",
    "        occ_min=pw.reducers.min(pw.this.Occupancy),\n",
    "        cap=pw.reducers.max(pw.this.Capacity),\n",
    "        QueueLength=pw.reducers.max(pw.this.QueueLength),\n",
    "        TrafficLevel=pw.reducers.any(pw.this.TrafficLevel),\n",
    "        IsSpecialDay=pw.reducers.any(pw.this.IsSpecialDay),\n",
    "        VehicleType=pw.reducers.any(pw.this.VehicleType),\n",
    "        Latitude=pw.reducers.max(pw.this.Latitude),\n",
    "        Longitude=pw.reducers.max(pw.this.Longitude)\n",
    "    )\n",
    ")\n"
   ]
  },
  {
   "cell_type": "code",
   "execution_count": null,
   "id": "6",
   "metadata": {
    "id": "8d6f9603"
   },
   "outputs": [],
   "source": [
    "# Pricing Models\n",
    "BASE, MINP, MAXP = 10.0, 5.0, 20.0\n",
    "\n",
    "# Baseline Model (Model 1)\n",
    "occ_rate = pw.this.occ_max / pw.this.cap\n",
    "price_unclipped = BASE + 0.5 * (occ_rate - 0.5)\n",
    "Price_M1 = pw.if_else(\n",
    "    price_unclipped < MINP, MINP,\n",
    "    pw.if_else(price_unclipped > MAXP, MAXP, price_unclipped)\n",
    ")\n",
    "price_linear = delta_window.with_columns(Price_M1 = Price_M1)\n",
    "\n",
    "# Demand-Based Model (Model 2)\n",
    "vehicle_map = pw.if_else(\n",
    "    pw.this.VehicleType == 'car', 1.0,\n",
    "    pw.if_else(pw.this.VehicleType == 'bike', 0.5,\n",
    "    pw.if_else(pw.this.VehicleType == 'truck', 1.5, 1.0))\n",
    ")\n",
    "traffic_map = pw.if_else(\n",
    "    pw.this.TrafficLevel == 'low', 0.2,\n",
    "    pw.if_else(pw.this.TrafficLevel == 'average', 0.5,\n",
    "    pw.if_else(pw.this.TrafficLevel == 'high', 1.0, 0.5))\n",
    ")\n",
    "\n",
    "raw = (\n",
    "    0.4 * occ_rate +\n",
    "    0.3 * pw.this.QueueLength +\n",
    "    0.2 * traffic_map +\n",
    "    0.3 * (pw.this.IsSpecialDay * 1.0) +    # <-- boolean→float\n",
    "    0.5 * vehicle_map\n",
    ")\n",
    "\n",
    "norm = raw / (1 + abs(raw))\n",
    "price_M2_unclipped = BASE * (1 + 0.8 * norm)\n",
    "Price_M2 = pw.if_else(\n",
    "    norm < -1, MINP,\n",
    "    pw.if_else(norm > 1, MAXP, price_M2_unclipped)\n",
    ")\n",
    "\n",
    "price_demand = delta_window.with_columns(Price_M2 = Price_M2)\n",
    "\n"
   ]
  },
  {
   "cell_type": "code",
   "execution_count": null,
   "id": "7",
   "metadata": {
    "colab": {
     "base_uri": "https://localhost:8080/",
     "height": 719
    },
    "id": "d0a154bc",
    "outputId": "16c41680-bc7a-4a04-ed09-34d950d54b93"
   },
   "outputs": [],
   "source": [
    "from bokeh.plotting import figure\n",
    "from bokeh.models import ColumnDataSource\n",
    "\n",
    "def price_plot(source, col, title):\n",
    "    \"\"\"source is already a ColumnDataSource.\"\"\"\n",
    "    p = figure(x_axis_type='datetime', title=title, height=300)\n",
    "    p.line('t', col, source=source, line_width=2)\n",
    "    return p\n",
    "\n",
    "\n",
    "# Use Pathway's .plot() to convert each table into DataFrame snapshots\n",
    "viz = pn.Column(\n",
    "    price_linear.plot(lambda dfp: price_plot(dfp, 'Price_M1', 'Model 1 – Baseline')),\n",
    "    price_demand.plot(lambda dfp: price_plot(dfp, 'Price_M2', 'Model 2 – Demand-Based'))\n",
    ")\n",
    "\n",
    "viz.servable()\n",
    "\n"
   ]
  },
  {
   "cell_type": "code",
   "execution_count": null,
   "id": "8",
   "metadata": {
    "colab": {
     "base_uri": "https://localhost:8080/",
     "height": 1000,
     "referenced_widgets": [
      "26fec36afff44f8eae7a4ffda560a590",
      "54511f82a8ba4029bd80f4a1e99b0b74"
     ]
    },
    "id": "a55f80f9",
    "outputId": "ba0a7381-fb3a-49e4-c092-a1b7d1b2a9bd"
   },
   "outputs": [],
   "source": [
    "pw.run()"
   ]
  }
 ],
 "metadata": {
  "colab": {
   "provenance": []
  },
  "kernelspec": {
   "display_name": "Python 3",
   "name": "python3"
  },
  "language_info": {
   "name": "python"
  }
 },
 "nbformat": 4,
 "nbformat_minor": 5
}
